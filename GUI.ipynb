{
  "nbformat": 4,
  "nbformat_minor": 0,
  "metadata": {
    "colab": {
      "provenance": [],
      "authorship_tag": "ABX9TyOJnCH9yQCPQx+ENY2J2wMZ",
      "include_colab_link": true
    },
    "kernelspec": {
      "name": "python3",
      "display_name": "Python 3"
    },
    "language_info": {
      "name": "python"
    }
  },
  "cells": [
    {
      "cell_type": "markdown",
      "metadata": {
        "id": "view-in-github",
        "colab_type": "text"
      },
      "source": [
        "<a href=\"https://colab.research.google.com/github/Yaswanthyarra/MicroexpressionClassificationUsingCNNandGeneticAlgorithm/blob/main/GUI.ipynb\" target=\"_parent\"><img src=\"https://colab.research.google.com/assets/colab-badge.svg\" alt=\"Open In Colab\"/></a>"
      ]
    },
    {
      "cell_type": "code",
      "execution_count": 1,
      "metadata": {
        "colab": {
          "base_uri": "https://localhost:8080/"
        },
        "id": "XgcRe8EMwWtD",
        "outputId": "5a787a68-007d-4330-db6a-308ab5a8dab2"
      },
      "outputs": [
        {
          "output_type": "stream",
          "name": "stdout",
          "text": [
            "Mounted at /content/drive\n"
          ]
        }
      ],
      "source": [
        "from google.colab import drive\n",
        "drive.mount('/content/drive')"
      ]
    },
    {
      "cell_type": "code",
      "source": [
        "%cd '/content/drive/My Drive/CASMEII'"
      ],
      "metadata": {
        "colab": {
          "base_uri": "https://localhost:8080/"
        },
        "id": "u5ycMSGvxOZ_",
        "outputId": "fd949a9c-dc74-4680-99c6-e137a00f6da7"
      },
      "execution_count": 2,
      "outputs": [
        {
          "output_type": "stream",
          "name": "stdout",
          "text": [
            "/content/drive/My Drive/CASMEII\n"
          ]
        }
      ]
    },
    {
      "cell_type": "code",
      "source": [
        "dataset_dir = '/content/drive/My Drive/CASMEII/Cropped-updated/Cropped'"
      ],
      "metadata": {
        "id": "FJ3_gqLMxUcd"
      },
      "execution_count": 3,
      "outputs": []
    },
    {
      "cell_type": "code",
      "source": [
        "import numpy as np\n",
        "import pandas as pd\n",
        "import cv2\n",
        "import os\n",
        "from tensorflow.keras.preprocessing.image import ImageDataGenerator\n",
        "from tensorflow.keras.models import Sequential\n",
        "from tensorflow.keras.layers import Conv2D, MaxPooling2D, Flatten, Dense, Dropout\n",
        "from sklearn.model_selection import train_test_split\n",
        "\n",
        "# define constants\n",
        "IMAGE_SIZE = (64, 64)\n",
        "BATCH_SIZE = 32\n",
        "NUM_EPOCHS = 60\n",
        "\n",
        "# load the onset and apex frame indices from the Excel sheet\n",
        "coding_file = pd.read_excel('/content/drive/My Drive/CASMEII/CASME2-coding-20140508.xlsx', sheet_name='Sheet1')\n",
        "\n",
        "class_labels = coding_file['Estimated Emotion'].values\n",
        "\n",
        "# define a function to extract the onset and apex frames for each expression\n",
        "def extract_frames(sequence_path,sequence, subject_num):\n",
        "    expression_images = []\n",
        "\n",
        "    #To obtain the onset and apex frame numbers for the given subject and the corresponding sequence from the xlsheet\n",
        "    subject_data = coding_file.loc[coding_file['Subject'] == subject_num]\n",
        "    sequence_data = subject_data.loc[subject_data['Filename'] == sequence]\n",
        "    onset_frame = sequence_data['OnsetFrame'].iloc[0]\n",
        "    apex_frame = sequence_data['ApexFrame'].iloc[0]\n",
        "                                                                                                                                                                 \n",
        "    #To obtain the path to frames corresponding to the apex and onset frame numbers from the sequence of frames for the subject\n",
        "    onset_frame_path = os.path.join(sequence_path,'reg_img' + str(onset_frame) + '.jpg')\n",
        "    apex_frame_path = os.path.join(sequence_path, 'reg_img' + str(apex_frame) + '.jpg')\n",
        "    print(subject_num,apex_frame_path)\n",
        "    print(subject_num,onset_frame_path)\n",
        "   \n",
        "    #To obtain the apex and apex frames from path\n",
        "    onset_frame = cv2.imread(onset_frame_path)\n",
        "    apex_frame = cv2.imread(apex_frame_path)\n",
        "    onset_frame = cv2.cvtColor(onset_frame, cv2.COLOR_BGR2GRAY)\n",
        "    apex_frame = cv2.cvtColor(apex_frame, cv2.COLOR_BGR2GRAY)\n",
        "    \n",
        "    #To apply histogram equalisation to the frames to to enhance the contrast of an image by redistributing the pixel intensities. \n",
        "    onset_frame = cv2.equalizeHist(onset_frame)\n",
        "    apex_frame = cv2.equalizeHist(apex_frame)\n",
        "\n",
        "    #Resizing extracted frames\n",
        "    onset_frame = cv2.resize(onset_frame, IMAGE_SIZE)\n",
        "    apex_frame = cv2.resize(apex_frame, IMAGE_SIZE)\n",
        "\n",
        "    #Stacking the apex and onset frames together and and appending to the expressin images list\n",
        "    expression_images.append(np.stack([onset_frame, apex_frame], axis=-1))\n",
        "    \n",
        "    return np.array(expression_images)\n",
        "\n",
        "# create a data generator for the image data\n",
        "data_generator = ImageDataGenerator(rescale=1./255)\n",
        "\n",
        "#Setting up several image augmentation parameters that can be used to generate augmented images \n",
        "exp_frame_augmentation = {\n",
        "    'rotation_range': 10,\n",
        "    'width_shift_range': 0.1,\n",
        "    'height_shift_range': 0.1,\n",
        "    'shear_range': 0.1,\n",
        "    'zoom_range': 0.1,\n",
        "    'horizontal_flip': True,\n",
        "    'brightness_range': [0.5, 1.5],\n",
        "}\n",
        "\n",
        "\n",
        "# load the expression folders and extract the onset and apex frames for each subject\n",
        "\n",
        "#converting the categorical class labels of a classification problem into numerical form\n",
        "label_dict = {'happiness': 0, 'disgust': 1, 'repression': 2, 'surprise': 3, 'fear': 4, 'others': 6,'sadness':5}\n",
        "\n",
        "expression_images = []\n",
        "expression_labels = []\n",
        "\n",
        "#Looping through all the subjects in the dataset\n",
        "for subject in os.listdir(dataset_dir):\n",
        "\n",
        "    subject_num = int(subject[3:])\n",
        "    subject_dir = os.path.join(dataset_dir, subject)\n",
        "\n",
        "    #Looping through each sequence for the subject\n",
        "    for sequence in os.listdir(subject_dir):\n",
        "        \n",
        "        sequence_path = os.path.join(subject_dir, sequence)\n",
        "\n",
        "        #Extracting the onset and apex frames by invoking the extract_frames method\n",
        "        expression_frames = extract_frames(sequence_path, sequence, subject_num)\n",
        "\n",
        "        #Obtaining the expression label for the sequence from the xlsheet and appending it to expression_label \n",
        "        subject_data = coding_file.loc[coding_file['Subject'] == subject_num]\n",
        "        sequence_data = subject_data.loc[subject_data['Filename'] == sequence]\n",
        "        exp_label_category = sequence_data['Estimated Emotion']\n",
        "        expression_label = label_dict[exp_label_category.values[0]]\n",
        "\n",
        "        #Adding the extracted frames and the correspoing class label to expression_images and expression_labels\n",
        "        expression_images.append(expression_frames)\n",
        "        expression_labels.append(expression_label)\n",
        "\n",
        "        # Generating augmented images for the fear class\n",
        "        if expression_label == 4:  # if fear class\n",
        "            \n",
        "            for i in range(30):\n",
        "              print(i,subject_num)\n",
        "\n",
        "              #Generating the augmented apex and onset frames\n",
        "              apex_augmented=data_generator.apply_transform(expression_frames[:, :, :, 0], exp_frame_augmentation)\n",
        "              onset_augmented=data_generator.apply_transform(expression_frames[:, :, :, 1], exp_frame_augmentation)\n",
        "              \n",
        "              #Appending the augmented images to expression_images and expression_labels lists\n",
        "              expression_images.append(np.stack([apex_augmented, onset_augmented], axis=-1))\n",
        "              expression_labels.append(expression_label)\n",
        "        \n",
        "        # Generating augmented images for the sadness class\n",
        "        if expression_label == 5:  # if sadness class\n",
        "           \n",
        "            for i in range(9):\n",
        "              print(i,subject_num)\n",
        "              \n",
        "              #Generating the augmented apex and onset frames\n",
        "              apex_augmented=data_generator.apply_transform(expression_frames[:, :, :, 0], exp_frame_augmentation)\n",
        "              onset_augmented=data_generator.apply_transform(expression_frames[:, :, :, 1], exp_frame_augmentation)\n",
        "              \n",
        "\n",
        "              #Appending the augmented images to expression_images and expression_labels lists\n",
        "              expression_images.append(np.stack([apex_augmented, onset_augmented], axis=-1))\n",
        "              expression_labels.append(expression_label)  \n",
        "\n",
        "        # generate augmented images for the happiness class\n",
        "        if expression_label == 0:  # if happiness class\n",
        "        \n",
        "            for i in range(1):\n",
        "              print(i,subject_num)\n",
        "\n",
        "              #Generating the augmented apex and onset frames\n",
        "              apex_augmented=data_generator.apply_transform(expression_frames[:, :, :, 0], exp_frame_augmentation)\n",
        "              onset_augmented=data_generator.apply_transform(expression_frames[:, :, :, 1], exp_frame_augmentation)\n",
        "              \n",
        "              #Appending the augmented images to expression_images and expression_labels lists\n",
        "              expression_images.append(np.stack([apex_augmented, onset_augmented], axis=-1))\n",
        "              expression_labels.append(expression_label)  \n",
        "\n",
        "        # Generate augmented images for the repression class\n",
        "        if expression_label == 2:  # if repression class\n",
        "          \n",
        "            for i in range(1):\n",
        "              print(i,subject_num)\n",
        "              apex_augmented=data_generator.apply_transform(expression_frames[:, :, :, 0], exp_frame_augmentation)\n",
        "              onset_augmented=data_generator.apply_transform(expression_frames[:, :, :, 1], exp_frame_augmentation)\n",
        "\n",
        "              #Appending the augmented images to expression_images and expression_labels lists\n",
        "              expression_images.append(np.stack([apex_augmented, onset_augmented], axis=-1))\n",
        "              expression_labels.append(expression_label)  \n",
        "        \n",
        "        # Generate augmented images for the surprise class\n",
        "        if expression_label == 3:  # if surprise class\n",
        "            \n",
        "            \n",
        "            for i in range(1):\n",
        "              print(i,subject_num)\n",
        "\n",
        "              #Generating the augmented apex and onset frames\n",
        "              apex_augmented=data_generator.apply_transform(expression_frames[:, :, :, 0], exp_frame_augmentation)\n",
        "              onset_augmented=data_generator.apply_transform(expression_frames[:, :, :, 1], exp_frame_augmentation)\n",
        "\n",
        "              #Appending the augmented images to expression_images and expression_labels lists\n",
        "              expression_images.append(np.stack([apex_augmented, onset_augmented], axis=-1))\n",
        "              expression_labels.append(expression_label)  \n",
        "\n",
        "\n",
        "        \n",
        "\n",
        "        \n",
        "# convert the data to numpy arrays \n",
        "expression_images = np.concatenate(expression_images, axis=0)\n",
        "expression_labels = np.array(expression_labels)\n",
        "\n",
        "#To obtain the number of class labels\n",
        "num_classes = len(np.unique(expression_labels))\n",
        "\n",
        "#Stratified Spliting of data into training and testing sets\n",
        "train_images, test_images, train_labels, test_labels = train_test_split(expression_images, expression_labels, test_size=0.2,stratify=expression_labels,  random_state=42)\n",
        "\n"
      ],
      "metadata": {
        "id": "h3If-1vexXgH"
      },
      "execution_count": null,
      "outputs": []
    },
    {
      "cell_type": "code",
      "source": [
        "#Using Optimised hyperparameters\n",
        "from tensorflow.keras.models import Sequential\n",
        "from tensorflow.keras.layers import Conv2D, MaxPooling2D, Flatten, Dense, Dropout\n",
        "from sklearn.model_selection import train_test_split\n",
        "from keras.optimizers import Adam\n",
        "# define the model architecture\n",
        "model = Sequential([\n",
        "    Conv2D(32, (3,3), activation='relu', input_shape=(IMAGE_SIZE[0], IMAGE_SIZE[1], 2)),\n",
        "    MaxPooling2D((2,2)),\n",
        "    Conv2D(64, (3,3), activation='relu'),\n",
        "    MaxPooling2D((2,2)),\n",
        "    Conv2D(128, (3,3), activation='relu'),\n",
        "    MaxPooling2D((2,2)),\n",
        "    Flatten(),\n",
        "    Dense(128, activation='relu'),\n",
        "    Dropout(0.29999999999999993),\n",
        "    Dense(num_classes, activation='softmax')\n",
        "])\n",
        "optimizer = Adam(learning_rate=0.0006651508397586441)\n",
        "model.compile(optimizer=optimizer,\n",
        "              loss='sparse_categorical_crossentropy',\n",
        "              metrics=['accuracy'])\n",
        "model.fit(train_images, train_labels, epochs=52, batch_size=17, validation_data=(test_images, test_labels))"
      ],
      "metadata": {
        "id": "l1Sr0t5Ixiu_"
      },
      "execution_count": null,
      "outputs": []
    },
    {
      "cell_type": "code",
      "source": [
        "model.save(\"ME_model.h5\")\n",
        "model_path=\"ME_model.h5\""
      ],
      "metadata": {
        "id": "dNw1MFQ6xrOS"
      },
      "execution_count": null,
      "outputs": []
    },
    {
      "cell_type": "code",
      "source": [
        "import tensorflow as tf\n",
        "\n",
        "# Load the saved model\n",
        "model = tf.keras.models.load_model('/content/drive/MyDrive/CASMEII/ME_model.h5')\n",
        "\n",
        "# Print a summary of the model's architecture\n",
        "model.summary()"
      ],
      "metadata": {
        "colab": {
          "base_uri": "https://localhost:8080/"
        },
        "id": "nefmDH6nxwV1",
        "outputId": "eef328d8-84df-499c-86ee-a885fbfa7b94"
      },
      "execution_count": 4,
      "outputs": [
        {
          "output_type": "stream",
          "name": "stdout",
          "text": [
            "Model: \"sequential\"\n",
            "_________________________________________________________________\n",
            " Layer (type)                Output Shape              Param #   \n",
            "=================================================================\n",
            " conv2d (Conv2D)             (None, 62, 62, 32)        608       \n",
            "                                                                 \n",
            " max_pooling2d (MaxPooling2D  (None, 31, 31, 32)       0         \n",
            " )                                                               \n",
            "                                                                 \n",
            " conv2d_1 (Conv2D)           (None, 29, 29, 64)        18496     \n",
            "                                                                 \n",
            " max_pooling2d_1 (MaxPooling  (None, 14, 14, 64)       0         \n",
            " 2D)                                                             \n",
            "                                                                 \n",
            " conv2d_2 (Conv2D)           (None, 12, 12, 128)       73856     \n",
            "                                                                 \n",
            " max_pooling2d_2 (MaxPooling  (None, 6, 6, 128)        0         \n",
            " 2D)                                                             \n",
            "                                                                 \n",
            " flatten (Flatten)           (None, 4608)              0         \n",
            "                                                                 \n",
            " dense (Dense)               (None, 128)               589952    \n",
            "                                                                 \n",
            " dropout (Dropout)           (None, 128)               0         \n",
            "                                                                 \n",
            " dense_1 (Dense)             (None, 7)                 903       \n",
            "                                                                 \n",
            "=================================================================\n",
            "Total params: 683,815\n",
            "Trainable params: 683,815\n",
            "Non-trainable params: 0\n",
            "_________________________________________________________________\n"
          ]
        }
      ]
    },
    {
      "cell_type": "code",
      "source": [
        "import os\n",
        "\n",
        "cwd = os.getcwd()\n",
        "print(cwd)"
      ],
      "metadata": {
        "id": "I8h8XBvGx4H5"
      },
      "execution_count": null,
      "outputs": []
    },
    {
      "cell_type": "code",
      "source": [
        "pip install tensorflow_addons"
      ],
      "metadata": {
        "colab": {
          "base_uri": "https://localhost:8080/"
        },
        "id": "gbXmdjX6x7VJ",
        "outputId": "e05a2e00-0d42-4f02-ba17-3b2369bceb62"
      },
      "execution_count": 5,
      "outputs": [
        {
          "output_type": "stream",
          "name": "stdout",
          "text": [
            "Looking in indexes: https://pypi.org/simple, https://us-python.pkg.dev/colab-wheels/public/simple/\n",
            "Collecting tensorflow_addons\n",
            "  Downloading tensorflow_addons-0.20.0-cp310-cp310-manylinux_2_17_x86_64.manylinux2014_x86_64.whl (591 kB)\n",
            "\u001b[2K     \u001b[90m━━━━━━━━━━━━━━━━━━━━━━━━━━━━━━━━━━━━━━\u001b[0m \u001b[32m591.0/591.0 kB\u001b[0m \u001b[31m20.2 MB/s\u001b[0m eta \u001b[36m0:00:00\u001b[0m\n",
            "\u001b[?25hRequirement already satisfied: packaging in /usr/local/lib/python3.10/dist-packages (from tensorflow_addons) (23.1)\n",
            "Collecting typeguard<3.0.0,>=2.7 (from tensorflow_addons)\n",
            "  Downloading typeguard-2.13.3-py3-none-any.whl (17 kB)\n",
            "Installing collected packages: typeguard, tensorflow_addons\n",
            "Successfully installed tensorflow_addons-0.20.0 typeguard-2.13.3\n"
          ]
        }
      ]
    },
    {
      "cell_type": "code",
      "source": [
        "pip install gradio"
      ],
      "metadata": {
        "colab": {
          "base_uri": "https://localhost:8080/"
        },
        "id": "k5RJpEN9yGBA",
        "outputId": "21ad85eb-2a79-40c1-e8b9-8d5b5e4d1d59"
      },
      "execution_count": 6,
      "outputs": [
        {
          "output_type": "stream",
          "name": "stdout",
          "text": [
            "Looking in indexes: https://pypi.org/simple, https://us-python.pkg.dev/colab-wheels/public/simple/\n",
            "Collecting gradio\n",
            "  Downloading gradio-3.32.0-py3-none-any.whl (19.9 MB)\n",
            "\u001b[2K     \u001b[90m━━━━━━━━━━━━━━━━━━━━━━━━━━━━━━━━━━━━━━━━\u001b[0m \u001b[32m19.9/19.9 MB\u001b[0m \u001b[31m72.3 MB/s\u001b[0m eta \u001b[36m0:00:00\u001b[0m\n",
            "\u001b[?25hCollecting aiofiles (from gradio)\n",
            "  Downloading aiofiles-23.1.0-py3-none-any.whl (14 kB)\n",
            "Collecting aiohttp (from gradio)\n",
            "  Downloading aiohttp-3.8.4-cp310-cp310-manylinux_2_17_x86_64.manylinux2014_x86_64.whl (1.0 MB)\n",
            "\u001b[2K     \u001b[90m━━━━━━━━━━━━━━━━━━━━━━━━━━━━━━━━━━━━━━━━\u001b[0m \u001b[32m1.0/1.0 MB\u001b[0m \u001b[31m69.3 MB/s\u001b[0m eta \u001b[36m0:00:00\u001b[0m\n",
            "\u001b[?25hRequirement already satisfied: altair>=4.2.0 in /usr/local/lib/python3.10/dist-packages (from gradio) (4.2.2)\n",
            "Collecting fastapi (from gradio)\n",
            "  Downloading fastapi-0.95.2-py3-none-any.whl (56 kB)\n",
            "\u001b[2K     \u001b[90m━━━━━━━━━━━━━━━━━━━━━━━━━━━━━━━━━━━━━━━━\u001b[0m \u001b[32m57.0/57.0 kB\u001b[0m \u001b[31m6.7 MB/s\u001b[0m eta \u001b[36m0:00:00\u001b[0m\n",
            "\u001b[?25hCollecting ffmpy (from gradio)\n",
            "  Downloading ffmpy-0.3.0.tar.gz (4.8 kB)\n",
            "  Preparing metadata (setup.py) ... \u001b[?25l\u001b[?25hdone\n",
            "Collecting gradio-client>=0.2.4 (from gradio)\n",
            "  Downloading gradio_client-0.2.5-py3-none-any.whl (288 kB)\n",
            "\u001b[2K     \u001b[90m━━━━━━━━━━━━━━━━━━━━━━━━━━━━━━━━━━━━━━\u001b[0m \u001b[32m288.1/288.1 kB\u001b[0m \u001b[31m30.2 MB/s\u001b[0m eta \u001b[36m0:00:00\u001b[0m\n",
            "\u001b[?25hCollecting httpx (from gradio)\n",
            "  Downloading httpx-0.24.1-py3-none-any.whl (75 kB)\n",
            "\u001b[2K     \u001b[90m━━━━━━━━━━━━━━━━━━━━━━━━━━━━━━━━━━━━━━━━\u001b[0m \u001b[32m75.4/75.4 kB\u001b[0m \u001b[31m9.7 MB/s\u001b[0m eta \u001b[36m0:00:00\u001b[0m\n",
            "\u001b[?25hCollecting huggingface-hub>=0.13.0 (from gradio)\n",
            "  Downloading huggingface_hub-0.14.1-py3-none-any.whl (224 kB)\n",
            "\u001b[2K     \u001b[90m━━━━━━━━━━━━━━━━━━━━━━━━━━━━━━━━━━━━━━\u001b[0m \u001b[32m224.5/224.5 kB\u001b[0m \u001b[31m26.0 MB/s\u001b[0m eta \u001b[36m0:00:00\u001b[0m\n",
            "\u001b[?25hRequirement already satisfied: jinja2 in /usr/local/lib/python3.10/dist-packages (from gradio) (3.1.2)\n",
            "Requirement already satisfied: markdown-it-py[linkify]>=2.0.0 in /usr/local/lib/python3.10/dist-packages (from gradio) (2.2.0)\n",
            "Requirement already satisfied: markupsafe in /usr/local/lib/python3.10/dist-packages (from gradio) (2.1.2)\n",
            "Requirement already satisfied: matplotlib in /usr/local/lib/python3.10/dist-packages (from gradio) (3.7.1)\n",
            "Collecting mdit-py-plugins<=0.3.3 (from gradio)\n",
            "  Downloading mdit_py_plugins-0.3.3-py3-none-any.whl (50 kB)\n",
            "\u001b[2K     \u001b[90m━━━━━━━━━━━━━━━━━━━━━━━━━━━━━━━━━━━━━━━━\u001b[0m \u001b[32m50.5/50.5 kB\u001b[0m \u001b[31m6.1 MB/s\u001b[0m eta \u001b[36m0:00:00\u001b[0m\n",
            "\u001b[?25hRequirement already satisfied: numpy in /usr/local/lib/python3.10/dist-packages (from gradio) (1.22.4)\n",
            "Collecting orjson (from gradio)\n",
            "  Downloading orjson-3.8.12-cp310-cp310-manylinux_2_17_x86_64.manylinux2014_x86_64.whl (137 kB)\n",
            "\u001b[2K     \u001b[90m━━━━━━━━━━━━━━━━━━━━━━━━━━━━━━━━━━━━━━\u001b[0m \u001b[32m137.2/137.2 kB\u001b[0m \u001b[31m15.0 MB/s\u001b[0m eta \u001b[36m0:00:00\u001b[0m\n",
            "\u001b[?25hRequirement already satisfied: pandas in /usr/local/lib/python3.10/dist-packages (from gradio) (1.5.3)\n",
            "Requirement already satisfied: pillow in /usr/local/lib/python3.10/dist-packages (from gradio) (8.4.0)\n",
            "Requirement already satisfied: pydantic in /usr/local/lib/python3.10/dist-packages (from gradio) (1.10.7)\n",
            "Collecting pydub (from gradio)\n",
            "  Downloading pydub-0.25.1-py2.py3-none-any.whl (32 kB)\n",
            "Requirement already satisfied: pygments>=2.12.0 in /usr/local/lib/python3.10/dist-packages (from gradio) (2.14.0)\n",
            "Collecting python-multipart (from gradio)\n",
            "  Downloading python_multipart-0.0.6-py3-none-any.whl (45 kB)\n",
            "\u001b[2K     \u001b[90m━━━━━━━━━━━━━━━━━━━━━━━━━━━━━━━━━━━━━━━━\u001b[0m \u001b[32m45.7/45.7 kB\u001b[0m \u001b[31m5.9 MB/s\u001b[0m eta \u001b[36m0:00:00\u001b[0m\n",
            "\u001b[?25hRequirement already satisfied: pyyaml in /usr/local/lib/python3.10/dist-packages (from gradio) (6.0)\n",
            "Requirement already satisfied: requests in /usr/local/lib/python3.10/dist-packages (from gradio) (2.27.1)\n",
            "Collecting semantic-version (from gradio)\n",
            "  Downloading semantic_version-2.10.0-py2.py3-none-any.whl (15 kB)\n",
            "Requirement already satisfied: typing-extensions in /usr/local/lib/python3.10/dist-packages (from gradio) (4.5.0)\n",
            "Collecting uvicorn>=0.14.0 (from gradio)\n",
            "  Downloading uvicorn-0.22.0-py3-none-any.whl (58 kB)\n",
            "\u001b[2K     \u001b[90m━━━━━━━━━━━━━━━━━━━━━━━━━━━━━━━━━━━━━━━━\u001b[0m \u001b[32m58.3/58.3 kB\u001b[0m \u001b[31m6.8 MB/s\u001b[0m eta \u001b[36m0:00:00\u001b[0m\n",
            "\u001b[?25hCollecting websockets>=10.0 (from gradio)\n",
            "  Downloading websockets-11.0.3-cp310-cp310-manylinux_2_5_x86_64.manylinux1_x86_64.manylinux_2_17_x86_64.manylinux2014_x86_64.whl (129 kB)\n",
            "\u001b[2K     \u001b[90m━━━━━━━━━━━━━━━━━━━━━━━━━━━━━━━━━━━━━━\u001b[0m \u001b[32m129.9/129.9 kB\u001b[0m \u001b[31m15.4 MB/s\u001b[0m eta \u001b[36m0:00:00\u001b[0m\n",
            "\u001b[?25hRequirement already satisfied: entrypoints in /usr/local/lib/python3.10/dist-packages (from altair>=4.2.0->gradio) (0.4)\n",
            "Requirement already satisfied: jsonschema>=3.0 in /usr/local/lib/python3.10/dist-packages (from altair>=4.2.0->gradio) (4.3.3)\n",
            "Requirement already satisfied: toolz in /usr/local/lib/python3.10/dist-packages (from altair>=4.2.0->gradio) (0.12.0)\n",
            "Requirement already satisfied: fsspec in /usr/local/lib/python3.10/dist-packages (from gradio-client>=0.2.4->gradio) (2023.4.0)\n",
            "Requirement already satisfied: packaging in /usr/local/lib/python3.10/dist-packages (from gradio-client>=0.2.4->gradio) (23.1)\n",
            "Requirement already satisfied: filelock in /usr/local/lib/python3.10/dist-packages (from huggingface-hub>=0.13.0->gradio) (3.12.0)\n",
            "Requirement already satisfied: tqdm>=4.42.1 in /usr/local/lib/python3.10/dist-packages (from huggingface-hub>=0.13.0->gradio) (4.65.0)\n",
            "Requirement already satisfied: mdurl~=0.1 in /usr/local/lib/python3.10/dist-packages (from markdown-it-py[linkify]>=2.0.0->gradio) (0.1.2)\n",
            "Collecting linkify-it-py<3,>=1 (from markdown-it-py[linkify]>=2.0.0->gradio)\n",
            "  Downloading linkify_it_py-2.0.2-py3-none-any.whl (19 kB)\n",
            "Requirement already satisfied: python-dateutil>=2.8.1 in /usr/local/lib/python3.10/dist-packages (from pandas->gradio) (2.8.2)\n",
            "Requirement already satisfied: pytz>=2020.1 in /usr/local/lib/python3.10/dist-packages (from pandas->gradio) (2022.7.1)\n",
            "Requirement already satisfied: click>=7.0 in /usr/local/lib/python3.10/dist-packages (from uvicorn>=0.14.0->gradio) (8.1.3)\n",
            "Collecting h11>=0.8 (from uvicorn>=0.14.0->gradio)\n",
            "  Downloading h11-0.14.0-py3-none-any.whl (58 kB)\n",
            "\u001b[2K     \u001b[90m━━━━━━━━━━━━━━━━━━━━━━━━━━━━━━━━━━━━━━━━\u001b[0m \u001b[32m58.3/58.3 kB\u001b[0m \u001b[31m7.6 MB/s\u001b[0m eta \u001b[36m0:00:00\u001b[0m\n",
            "\u001b[?25hRequirement already satisfied: attrs>=17.3.0 in /usr/local/lib/python3.10/dist-packages (from aiohttp->gradio) (23.1.0)\n",
            "Requirement already satisfied: charset-normalizer<4.0,>=2.0 in /usr/local/lib/python3.10/dist-packages (from aiohttp->gradio) (2.0.12)\n",
            "Collecting multidict<7.0,>=4.5 (from aiohttp->gradio)\n",
            "  Downloading multidict-6.0.4-cp310-cp310-manylinux_2_17_x86_64.manylinux2014_x86_64.whl (114 kB)\n",
            "\u001b[2K     \u001b[90m━━━━━━━━━━━━━━━━━━━━━━━━━━━━━━━━━━━━━━\u001b[0m \u001b[32m114.5/114.5 kB\u001b[0m \u001b[31m14.0 MB/s\u001b[0m eta \u001b[36m0:00:00\u001b[0m\n",
            "\u001b[?25hCollecting async-timeout<5.0,>=4.0.0a3 (from aiohttp->gradio)\n",
            "  Downloading async_timeout-4.0.2-py3-none-any.whl (5.8 kB)\n",
            "Collecting yarl<2.0,>=1.0 (from aiohttp->gradio)\n",
            "  Downloading yarl-1.9.2-cp310-cp310-manylinux_2_17_x86_64.manylinux2014_x86_64.whl (268 kB)\n",
            "\u001b[2K     \u001b[90m━━━━━━━━━━━━━━━━━━━━━━━━━━━━━━━━━━━━━━\u001b[0m \u001b[32m268.8/268.8 kB\u001b[0m \u001b[31m29.2 MB/s\u001b[0m eta \u001b[36m0:00:00\u001b[0m\n",
            "\u001b[?25hCollecting frozenlist>=1.1.1 (from aiohttp->gradio)\n",
            "  Downloading frozenlist-1.3.3-cp310-cp310-manylinux_2_5_x86_64.manylinux1_x86_64.manylinux_2_17_x86_64.manylinux2014_x86_64.whl (149 kB)\n",
            "\u001b[2K     \u001b[90m━━━━━━━━━━━━━━━━━━━━━━━━━━━━━━━━━━━━━━\u001b[0m \u001b[32m149.6/149.6 kB\u001b[0m \u001b[31m19.6 MB/s\u001b[0m eta \u001b[36m0:00:00\u001b[0m\n",
            "\u001b[?25hCollecting aiosignal>=1.1.2 (from aiohttp->gradio)\n",
            "  Downloading aiosignal-1.3.1-py3-none-any.whl (7.6 kB)\n",
            "Collecting starlette<0.28.0,>=0.27.0 (from fastapi->gradio)\n",
            "  Downloading starlette-0.27.0-py3-none-any.whl (66 kB)\n",
            "\u001b[2K     \u001b[90m━━━━━━━━━━━━━━━━━━━━━━━━━━━━━━━━━━━━━━━━\u001b[0m \u001b[32m67.0/67.0 kB\u001b[0m \u001b[31m9.5 MB/s\u001b[0m eta \u001b[36m0:00:00\u001b[0m\n",
            "\u001b[?25hRequirement already satisfied: certifi in /usr/local/lib/python3.10/dist-packages (from httpx->gradio) (2022.12.7)\n",
            "Collecting httpcore<0.18.0,>=0.15.0 (from httpx->gradio)\n",
            "  Downloading httpcore-0.17.1-py3-none-any.whl (70 kB)\n",
            "\u001b[2K     \u001b[90m━━━━━━━━━━━━━━━━━━━━━━━━━━━━━━━━━━━━━━━━\u001b[0m \u001b[32m70.9/70.9 kB\u001b[0m \u001b[31m8.8 MB/s\u001b[0m eta \u001b[36m0:00:00\u001b[0m\n",
            "\u001b[?25hRequirement already satisfied: idna in /usr/local/lib/python3.10/dist-packages (from httpx->gradio) (3.4)\n",
            "Requirement already satisfied: sniffio in /usr/local/lib/python3.10/dist-packages (from httpx->gradio) (1.3.0)\n",
            "Requirement already satisfied: contourpy>=1.0.1 in /usr/local/lib/python3.10/dist-packages (from matplotlib->gradio) (1.0.7)\n",
            "Requirement already satisfied: cycler>=0.10 in /usr/local/lib/python3.10/dist-packages (from matplotlib->gradio) (0.11.0)\n",
            "Requirement already satisfied: fonttools>=4.22.0 in /usr/local/lib/python3.10/dist-packages (from matplotlib->gradio) (4.39.3)\n",
            "Requirement already satisfied: kiwisolver>=1.0.1 in /usr/local/lib/python3.10/dist-packages (from matplotlib->gradio) (1.4.4)\n",
            "Requirement already satisfied: pyparsing>=2.3.1 in /usr/local/lib/python3.10/dist-packages (from matplotlib->gradio) (3.0.9)\n",
            "Requirement already satisfied: urllib3<1.27,>=1.21.1 in /usr/local/lib/python3.10/dist-packages (from requests->gradio) (1.26.15)\n",
            "Requirement already satisfied: anyio<5.0,>=3.0 in /usr/local/lib/python3.10/dist-packages (from httpcore<0.18.0,>=0.15.0->httpx->gradio) (3.6.2)\n",
            "Requirement already satisfied: pyrsistent!=0.17.0,!=0.17.1,!=0.17.2,>=0.14.0 in /usr/local/lib/python3.10/dist-packages (from jsonschema>=3.0->altair>=4.2.0->gradio) (0.19.3)\n",
            "Collecting uc-micro-py (from linkify-it-py<3,>=1->markdown-it-py[linkify]>=2.0.0->gradio)\n",
            "  Downloading uc_micro_py-1.0.2-py3-none-any.whl (6.2 kB)\n",
            "Requirement already satisfied: six>=1.5 in /usr/local/lib/python3.10/dist-packages (from python-dateutil>=2.8.1->pandas->gradio) (1.16.0)\n",
            "Building wheels for collected packages: ffmpy\n",
            "  Building wheel for ffmpy (setup.py) ... \u001b[?25l\u001b[?25hdone\n",
            "  Created wheel for ffmpy: filename=ffmpy-0.3.0-py3-none-any.whl size=4694 sha256=0b82401afda5cfb94d73d28831e3e213d5741a24cbb68acf0352af396c1443a6\n",
            "  Stored in directory: /root/.cache/pip/wheels/0c/c2/0e/3b9c6845c6a4e35beb90910cc70d9ac9ab5d47402bd62af0df\n",
            "Successfully built ffmpy\n",
            "Installing collected packages: pydub, ffmpy, websockets, uc-micro-py, semantic-version, python-multipart, orjson, multidict, h11, frozenlist, async-timeout, aiofiles, yarl, uvicorn, starlette, mdit-py-plugins, linkify-it-py, huggingface-hub, httpcore, aiosignal, httpx, fastapi, aiohttp, gradio-client, gradio\n",
            "Successfully installed aiofiles-23.1.0 aiohttp-3.8.4 aiosignal-1.3.1 async-timeout-4.0.2 fastapi-0.95.2 ffmpy-0.3.0 frozenlist-1.3.3 gradio-3.32.0 gradio-client-0.2.5 h11-0.14.0 httpcore-0.17.1 httpx-0.24.1 huggingface-hub-0.14.1 linkify-it-py-2.0.2 mdit-py-plugins-0.3.3 multidict-6.0.4 orjson-3.8.12 pydub-0.25.1 python-multipart-0.0.6 semantic-version-2.10.0 starlette-0.27.0 uc-micro-py-1.0.2 uvicorn-0.22.0 websockets-11.0.3 yarl-1.9.2\n"
          ]
        }
      ]
    },
    {
      "cell_type": "code",
      "source": [
        "import tensorflow as tf\n",
        "import tensorflow_addons as tfa\n",
        "#import tensorflow_addons.metrics as tfa_metrics\n",
        "import gradio as gr\n",
        "from PIL import Image\n",
        "import numpy as np\n",
        "import cv2\n",
        "import warnings\n",
        "\n",
        "warnings.filterwarnings('ignore')\n",
        "import base64\n",
        "\n",
        "\n",
        "# Define custom metric function\n",
        "f1_score = tfa.metrics.F1Score(num_classes=7)\n",
        "\n",
        "# Load saved model\n",
        "model = tf.keras.models.load_model(\n",
        "    r\"/content/drive/MyDrive/CASMEII/ME_model.h5\",custom_objects={'F1Score': f1_score}\n",
        "\n",
        ")\n",
        "\n",
        "# Define class names for predictions\n",
        "class_names = { \n",
        "    'happiness': 0, 'disgust': 1, 'repression': 2, 'surprise': 3, 'fear': 4, 'others': 6,'sadness':5\n",
        "}\n",
        "\n",
        "\n",
        "def classify_image(onset_frame,apex_frame):\n",
        "    #print(img.shape)\n",
        "    if onset_frame is None:\n",
        "      return \"Please upload an onset frame image.\"\n",
        "    if apex_frame is None:\n",
        "      return \"Please upload an apex frame image.\"\n",
        "    onset_frame = cv2.cvtColor(onset_frame, cv2.COLOR_BGR2GRAY)\n",
        "    apex_frame = cv2.cvtColor(apex_frame, cv2.COLOR_BGR2GRAY)\n",
        "    onset_frame = cv2.equalizeHist(onset_frame)\n",
        "    apex_frame = cv2.equalizeHist(apex_frame)\n",
        "    onset_frame = cv2.resize(onset_frame, (64,64))\n",
        "    apex_frame = cv2.resize(apex_frame, (64,64))\n",
        "    expression_image_test=[]\n",
        "    #Stacking the apex and onset frames together and and appending to the expressin images list\n",
        "    expression_image_test.append(np.stack([onset_frame, apex_frame], axis=-1))\n",
        "    #expression_image_test.append(np.stack([onset_frame, apex_frame], axis=-1))\n",
        "    expression_image_test = np.array(expression_image_test) # convert to numpy array\n",
        "    expression_image_test = expression_image_test.reshape((1, 64, 64, 2)) # reshape the array to match the model input shape\n",
        "    pred_probs = model.predict(expression_image_test)\n",
        "    pred_class = np.argmax(pred_probs)\n",
        "    label = list(class_names.keys())[list(class_names.values()).index(pred_class)]\n",
        "    return label\n",
        "\"\"\"\n",
        "# Define Gradio interface\n",
        "inputs = [gr.inputs.Image(shape=(None, None), source=\"upload\") for i in range(2)]\n",
        "#inputs = gr.inputs.Image(shape=(None, None), source=\"upload\")\n",
        "outputs = gr.outputs.Label(num_top_classes=7)\n",
        "interface = gr.Interface(fn=classify_image, inputs=inputs, outputs=outputs)\"\"\"\n",
        "inputs = [\n",
        "    gr.inputs.Image(shape=(None, None), source=\"upload\", label=\"Onset Frame\"),\n",
        "    gr.inputs.Image(shape=(None, None), source=\"upload\", label=\"Apex Frame\")\n",
        "]\n",
        "\n",
        "outputs = gr.outputs.Label(label=\"Expression\")\n",
        "#examples = [[cv2.imread(\"/content/reg_img46.jpg\"), cv2.imread(\"/content/reg_img59.jpg\")]]\n",
        "#interface = gr.Interface(fn=classify_image, inputs=inputs, outputs=outputs)\n",
        "interface = gr.Interface(\n",
        "    fn=classify_image,\n",
        "    inputs=inputs,\n",
        "    outputs=outputs,\n",
        "    title=\"Microexpression Expression Classification\",\n",
        "    description=\"This model predicts the microexpression expression shown in the onset and apex frames.\",\n",
        "    theme=\"default\",\n",
        "    layout=\"vertical\",\n",
        "    #examples=examples,\n",
        "    allow_flagging=False,\n",
        "    allow_screenshot=False,\n",
        "    live=False,\n",
        "    capture_session=True,\n",
        ")\n",
        "\n",
        "# Run interface\n",
        "interface.launch()"
      ],
      "metadata": {
        "colab": {
          "base_uri": "https://localhost:8080/",
          "height": 772
        },
        "id": "--U4spMEyLpL",
        "outputId": "5d152a3f-9a67-4413-f330-1c815c683548"
      },
      "execution_count": 7,
      "outputs": [
        {
          "output_type": "stream",
          "name": "stderr",
          "text": [
            "/usr/local/lib/python3.10/dist-packages/tensorflow_addons/utils/tfa_eol_msg.py:23: UserWarning: \n",
            "\n",
            "TensorFlow Addons (TFA) has ended development and introduction of new features.\n",
            "TFA has entered a minimal maintenance and release mode until a planned end of life in May 2024.\n",
            "Please modify downstream libraries to take dependencies from other repositories in our TensorFlow community (e.g. Keras, Keras-CV, and Keras-NLP). \n",
            "\n",
            "For more information see: https://github.com/tensorflow/addons/issues/2807 \n",
            "\n",
            "  warnings.warn(\n"
          ]
        },
        {
          "output_type": "stream",
          "name": "stdout",
          "text": [
            "Colab notebook detected. To show errors in colab notebook, set debug=True in launch()\n",
            "Note: opening Chrome Inspector may crash demo inside Colab notebooks.\n",
            "\n",
            "To create a public link, set `share=True` in `launch()`.\n"
          ]
        },
        {
          "output_type": "display_data",
          "data": {
            "text/plain": [
              "<IPython.core.display.Javascript object>"
            ],
            "application/javascript": [
              "(async (port, path, width, height, cache, element) => {\n",
              "                        if (!google.colab.kernel.accessAllowed && !cache) {\n",
              "                            return;\n",
              "                        }\n",
              "                        element.appendChild(document.createTextNode(''));\n",
              "                        const url = await google.colab.kernel.proxyPort(port, {cache});\n",
              "\n",
              "                        const external_link = document.createElement('div');\n",
              "                        external_link.innerHTML = `\n",
              "                            <div style=\"font-family: monospace; margin-bottom: 0.5rem\">\n",
              "                                Running on <a href=${new URL(path, url).toString()} target=\"_blank\">\n",
              "                                    https://localhost:${port}${path}\n",
              "                                </a>\n",
              "                            </div>\n",
              "                        `;\n",
              "                        element.appendChild(external_link);\n",
              "\n",
              "                        const iframe = document.createElement('iframe');\n",
              "                        iframe.src = new URL(path, url).toString();\n",
              "                        iframe.height = height;\n",
              "                        iframe.allow = \"autoplay; camera; microphone; clipboard-read; clipboard-write;\"\n",
              "                        iframe.width = width;\n",
              "                        iframe.style.border = 0;\n",
              "                        element.appendChild(iframe);\n",
              "                    })(7860, \"/\", \"100%\", 500, false, window.element)"
            ]
          },
          "metadata": {}
        },
        {
          "output_type": "execute_result",
          "data": {
            "text/plain": []
          },
          "metadata": {},
          "execution_count": 7
        }
      ]
    }
  ]
}